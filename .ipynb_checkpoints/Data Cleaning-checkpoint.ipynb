{
 "cells": [
  {
   "cell_type": "markdown",
   "id": "f582c884",
   "metadata": {},
   "source": [
    "# Load the packages"
   ]
  },
  {
   "cell_type": "code",
   "execution_count": 9,
   "id": "c074d9cf",
   "metadata": {},
   "outputs": [],
   "source": [
    "import pandas as pd\n",
    "import matplotlib.pyplot as plt\n",
    "from statistics import mean\n",
    "from datetime import datetime\n",
    "import cufflinks as cf\n",
    "import seaborn as sns"
   ]
  },
  {
   "cell_type": "markdown",
   "id": "df516e83",
   "metadata": {},
   "source": [
    "# Load all csv files"
   ]
  },
  {
   "cell_type": "code",
   "execution_count": 26,
   "id": "1bc47c36",
   "metadata": {},
   "outputs": [],
   "source": [
    "station_list_india = pd.read_csv(\"../air-quality-india/stations_india.csv\")\n",
    "station_list_madrid = pd.read_csv(\"../air-quality-madrid/stations.csv\")\n",
    "city_day = pd.read_csv(\"../air-quality-india/city_day.csv\")\n",
    "city_hour = pd.read_csv(\"../air-quality-india/city_hour.csv\")\n",
    "station_day = pd.read_csv(\"../air-quality-india/station_day.csv\")\n",
    "station_hour = pd.read_csv(\"../air-quality-india/station_hour.csv\")\n",
    "madrid_2015 = pd.read_csv(\"../air-quality-madrid/madrid_2015.csv\")\n",
    "madrid_2016 = pd.read_csv(\"../air-quality-madrid/madrid_2016.csv\")\n",
    "madrid_2017 = pd.read_csv(\"../air-quality-madrid/madrid_2017.csv\")\n",
    "madrid_2018 = pd.read_csv(\"../air-quality-madrid/madrid_2018.csv\")"
   ]
  },
  {
   "cell_type": "markdown",
   "id": "2c081b35",
   "metadata": {},
   "source": [
    "# Remove the NULL values from the data set"
   ]
  },
  {
   "cell_type": "code",
   "execution_count": null,
   "id": "a40ed034",
   "metadata": {},
   "outputs": [],
   "source": [
    "filtered_india_data = india_data.dropna()\n",
    "filtered_madrid_data = madrid_data.dropna()"
   ]
  },
  {
   "cell_type": "markdown",
   "id": "fd285900",
   "metadata": {},
   "source": [
    "# Rename the columns name and remove indexing"
   ]
  },
  {
   "cell_type": "code",
   "execution_count": 79,
   "id": "87359174",
   "metadata": {},
   "outputs": [],
   "source": [
    "station_list_madrid.rename(columns = {'id':'StationId', 'name':'StationName'}, inplace = True)\n",
    "station_list_madrid['StationId'] = station_list_madrid['StationId'].astype('object')\n",
    "station_list_india.drop(station_list_india.columns[0], axis=1, inplace=True)\n",
    "station_hour.rename(columns = {'Datetime':'Date'}, inplace = True)\n",
    "city_hour.rename(columns = {'Datetime':'Date'}, inplace = True)\n",
    "india_data.drop(station_list_india.columns[0], axis=1, inplace=True)\n",
    "filtered_madrid_data.rename(columns = {'date':'Date', 'station': 'StationId', 'BEN': 'Benzene', 'NO_2':'NO2', 'O_3': 'O3', 'SO_2': 'SO2'}, inplace = True)\n",
    "station_list_india.rename(columns = {'City':'City_Station', 'State': 'State_Station', 'Status': 'Status_Station', 'Region':'Region_Station'}, inplace = True)"
   ]
  },
  {
   "cell_type": "markdown",
   "id": "0f02e594",
   "metadata": {},
   "source": [
    "# Change the datatypes"
   ]
  },
  {
   "cell_type": "code",
   "execution_count": null,
   "id": "588c0d24",
   "metadata": {},
   "outputs": [],
   "source": [
    "filtered_india_data['Date'] = pd.to_datetime(filtered_india_data.Date)\n",
    "india_data['Date'] = pd.to_datetime(india_data.Date)\n",
    "filtered_madrid_data['Date'] = pd.to_datetime(filtered_madrid_data.Date)\n",
    "filtered_madrid_data['Region'] = 'Spain'"
   ]
  },
  {
   "cell_type": "markdown",
   "id": "ee67fc7e",
   "metadata": {},
   "source": [
    "# Merge the datasets"
   ]
  },
  {
   "cell_type": "code",
   "execution_count": 80,
   "id": "5037d79c",
   "metadata": {},
   "outputs": [],
   "source": [
    "station_list = pd.concat([station_list_madrid, station_list_india], ignore_index=True, sort=False)\n",
    "madrid_data = pd.concat([madrid_2015, madrid_2016, madrid_2017, madrid_2018])\n",
    "india_data = pd.concat([station_day, station_hour, city_hour, city_day])"
   ]
  },
  {
   "cell_type": "code",
   "execution_count": 75,
   "id": "9c260545",
   "metadata": {},
   "outputs": [
    {
     "data": {
      "text/plain": [
       "StationId                         object\n",
       "Date                      datetime64[ns]\n",
       "PM2.5                            float64\n",
       "PM10                             float64\n",
       "NO                               float64\n",
       "NO2                              float64\n",
       "NOx                              float64\n",
       "NH3                              float64\n",
       "CO                               float64\n",
       "SO2                              float64\n",
       "O3                               float64\n",
       "Benzene                          float64\n",
       "Toluene                          float64\n",
       "Xylene                           float64\n",
       "AQI                              float64\n",
       "AQI_Bucket                        object\n",
       "StationName                       object\n",
       "City                              object\n",
       "State                             object\n",
       "Status                            object\n",
       "Region                            object\n",
       "Month                             object\n",
       "Year                             float64\n",
       "Season                            object\n",
       "Weekday_or_weekend                object\n",
       "Regular_day_or_holiday            object\n",
       "AQ_Acceptability                  object\n",
       "Day_period                        object\n",
       "EBE                              float64\n",
       "NMHC                             float64\n",
       "PM25                             float64\n",
       "TCH                              float64\n",
       "TOL                              float64\n",
       "CH4                              float64\n",
       "dtype: object"
      ]
     },
     "execution_count": 75,
     "metadata": {},
     "output_type": "execute_result"
    }
   ],
   "source": [
    "aq_data = pd.concat([filtered_india_data, filtered_madrid_data], ignore_index=True, sort=False)"
   ]
  },
  {
   "cell_type": "code",
   "execution_count": 81,
   "id": "4409df19",
   "metadata": {},
   "outputs": [
    {
     "data": {
      "text/plain": [
       "StationId       object\n",
       "StationName     object\n",
       "address         object\n",
       "lon            float64\n",
       "lat            float64\n",
       "elevation      float64\n",
       "City            object\n",
       "State           object\n",
       "Status          object\n",
       "Region          object\n",
       "dtype: object"
      ]
     },
     "execution_count": 81,
     "metadata": {},
     "output_type": "execute_result"
    }
   ],
   "source": [
    "station_list.dtypes"
   ]
  },
  {
   "cell_type": "markdown",
   "id": "3d6271af",
   "metadata": {},
   "source": [
    "# Generate the final file of dataset & Save "
   ]
  },
  {
   "cell_type": "code",
   "execution_count": 85,
   "id": "200a759d",
   "metadata": {},
   "outputs": [],
   "source": [
    "final_data = pd.merge(aq_data, station_list, on = 'StationId')\n",
    "final_data.to_csv('../final_dataset.csv',index = False)"
   ]
  },
  {
   "cell_type": "code",
   "execution_count": 86,
   "id": "0b38f0c3",
   "metadata": {},
   "outputs": [
    {
     "data": {
      "text/html": [
       "<div>\n",
       "<style scoped>\n",
       "    .dataframe tbody tr th:only-of-type {\n",
       "        vertical-align: middle;\n",
       "    }\n",
       "\n",
       "    .dataframe tbody tr th {\n",
       "        vertical-align: top;\n",
       "    }\n",
       "\n",
       "    .dataframe thead th {\n",
       "        text-align: right;\n",
       "    }\n",
       "</style>\n",
       "<table border=\"1\" class=\"dataframe\">\n",
       "  <thead>\n",
       "    <tr style=\"text-align: right;\">\n",
       "      <th></th>\n",
       "      <th>StationId</th>\n",
       "      <th>Date</th>\n",
       "      <th>PM2.5</th>\n",
       "      <th>PM10</th>\n",
       "      <th>NO</th>\n",
       "      <th>NO2</th>\n",
       "      <th>NOx</th>\n",
       "      <th>NH3</th>\n",
       "      <th>CO</th>\n",
       "      <th>SO2</th>\n",
       "      <th>...</th>\n",
       "      <th>CH4</th>\n",
       "      <th>StationName_y</th>\n",
       "      <th>address</th>\n",
       "      <th>lon</th>\n",
       "      <th>lat</th>\n",
       "      <th>elevation</th>\n",
       "      <th>City_Station</th>\n",
       "      <th>State_Station</th>\n",
       "      <th>Status_Station</th>\n",
       "      <th>Region_Station</th>\n",
       "    </tr>\n",
       "  </thead>\n",
       "  <tbody>\n",
       "    <tr>\n",
       "      <th>0</th>\n",
       "      <td>AP001</td>\n",
       "      <td>2017-11-25 09:00:00</td>\n",
       "      <td>104.00</td>\n",
       "      <td>148.50</td>\n",
       "      <td>1.93</td>\n",
       "      <td>23.00</td>\n",
       "      <td>13.75</td>\n",
       "      <td>9.80</td>\n",
       "      <td>0.1</td>\n",
       "      <td>15.30</td>\n",
       "      <td>...</td>\n",
       "      <td>NaN</td>\n",
       "      <td>Secretariat, Amaravati - APPCB</td>\n",
       "      <td>NaN</td>\n",
       "      <td>NaN</td>\n",
       "      <td>NaN</td>\n",
       "      <td>NaN</td>\n",
       "      <td>Amaravati</td>\n",
       "      <td>Andhra Pradesh</td>\n",
       "      <td>Active</td>\n",
       "      <td>5. Western</td>\n",
       "    </tr>\n",
       "    <tr>\n",
       "      <th>1</th>\n",
       "      <td>AP001</td>\n",
       "      <td>2017-11-25 10:00:00</td>\n",
       "      <td>94.50</td>\n",
       "      <td>142.00</td>\n",
       "      <td>1.33</td>\n",
       "      <td>16.25</td>\n",
       "      <td>9.75</td>\n",
       "      <td>9.65</td>\n",
       "      <td>0.1</td>\n",
       "      <td>17.00</td>\n",
       "      <td>...</td>\n",
       "      <td>NaN</td>\n",
       "      <td>Secretariat, Amaravati - APPCB</td>\n",
       "      <td>NaN</td>\n",
       "      <td>NaN</td>\n",
       "      <td>NaN</td>\n",
       "      <td>NaN</td>\n",
       "      <td>Amaravati</td>\n",
       "      <td>Andhra Pradesh</td>\n",
       "      <td>Active</td>\n",
       "      <td>5. Western</td>\n",
       "    </tr>\n",
       "    <tr>\n",
       "      <th>2</th>\n",
       "      <td>AP001</td>\n",
       "      <td>2017-11-25 11:00:00</td>\n",
       "      <td>82.75</td>\n",
       "      <td>126.50</td>\n",
       "      <td>1.47</td>\n",
       "      <td>14.83</td>\n",
       "      <td>9.07</td>\n",
       "      <td>9.70</td>\n",
       "      <td>0.1</td>\n",
       "      <td>15.40</td>\n",
       "      <td>...</td>\n",
       "      <td>NaN</td>\n",
       "      <td>Secretariat, Amaravati - APPCB</td>\n",
       "      <td>NaN</td>\n",
       "      <td>NaN</td>\n",
       "      <td>NaN</td>\n",
       "      <td>NaN</td>\n",
       "      <td>Amaravati</td>\n",
       "      <td>Andhra Pradesh</td>\n",
       "      <td>Active</td>\n",
       "      <td>5. Western</td>\n",
       "    </tr>\n",
       "    <tr>\n",
       "      <th>3</th>\n",
       "      <td>AP001</td>\n",
       "      <td>2017-11-25 14:00:00</td>\n",
       "      <td>68.50</td>\n",
       "      <td>117.00</td>\n",
       "      <td>1.35</td>\n",
       "      <td>13.60</td>\n",
       "      <td>8.35</td>\n",
       "      <td>7.40</td>\n",
       "      <td>0.1</td>\n",
       "      <td>21.80</td>\n",
       "      <td>...</td>\n",
       "      <td>NaN</td>\n",
       "      <td>Secretariat, Amaravati - APPCB</td>\n",
       "      <td>NaN</td>\n",
       "      <td>NaN</td>\n",
       "      <td>NaN</td>\n",
       "      <td>NaN</td>\n",
       "      <td>Amaravati</td>\n",
       "      <td>Andhra Pradesh</td>\n",
       "      <td>Active</td>\n",
       "      <td>5. Western</td>\n",
       "    </tr>\n",
       "    <tr>\n",
       "      <th>4</th>\n",
       "      <td>AP001</td>\n",
       "      <td>2017-11-25 15:00:00</td>\n",
       "      <td>69.25</td>\n",
       "      <td>112.25</td>\n",
       "      <td>1.52</td>\n",
       "      <td>11.80</td>\n",
       "      <td>7.55</td>\n",
       "      <td>9.25</td>\n",
       "      <td>0.1</td>\n",
       "      <td>21.38</td>\n",
       "      <td>...</td>\n",
       "      <td>NaN</td>\n",
       "      <td>Secretariat, Amaravati - APPCB</td>\n",
       "      <td>NaN</td>\n",
       "      <td>NaN</td>\n",
       "      <td>NaN</td>\n",
       "      <td>NaN</td>\n",
       "      <td>Amaravati</td>\n",
       "      <td>Andhra Pradesh</td>\n",
       "      <td>Active</td>\n",
       "      <td>5. Western</td>\n",
       "    </tr>\n",
       "  </tbody>\n",
       "</table>\n",
       "<p>5 rows × 43 columns</p>\n",
       "</div>"
      ],
      "text/plain": [
       "  StationId                Date   PM2.5    PM10    NO    NO2    NOx   NH3  \\\n",
       "0     AP001 2017-11-25 09:00:00  104.00  148.50  1.93  23.00  13.75  9.80   \n",
       "1     AP001 2017-11-25 10:00:00   94.50  142.00  1.33  16.25   9.75  9.65   \n",
       "2     AP001 2017-11-25 11:00:00   82.75  126.50  1.47  14.83   9.07  9.70   \n",
       "3     AP001 2017-11-25 14:00:00   68.50  117.00  1.35  13.60   8.35  7.40   \n",
       "4     AP001 2017-11-25 15:00:00   69.25  112.25  1.52  11.80   7.55  9.25   \n",
       "\n",
       "    CO    SO2  ...  CH4                   StationName_y  address  lon  lat  \\\n",
       "0  0.1  15.30  ...  NaN  Secretariat, Amaravati - APPCB      NaN  NaN  NaN   \n",
       "1  0.1  17.00  ...  NaN  Secretariat, Amaravati - APPCB      NaN  NaN  NaN   \n",
       "2  0.1  15.40  ...  NaN  Secretariat, Amaravati - APPCB      NaN  NaN  NaN   \n",
       "3  0.1  21.80  ...  NaN  Secretariat, Amaravati - APPCB      NaN  NaN  NaN   \n",
       "4  0.1  21.38  ...  NaN  Secretariat, Amaravati - APPCB      NaN  NaN  NaN   \n",
       "\n",
       "  elevation City_Station   State_Station Status_Station Region_Station  \n",
       "0       NaN    Amaravati  Andhra Pradesh         Active     5. Western  \n",
       "1       NaN    Amaravati  Andhra Pradesh         Active     5. Western  \n",
       "2       NaN    Amaravati  Andhra Pradesh         Active     5. Western  \n",
       "3       NaN    Amaravati  Andhra Pradesh         Active     5. Western  \n",
       "4       NaN    Amaravati  Andhra Pradesh         Active     5. Western  \n",
       "\n",
       "[5 rows x 43 columns]"
      ]
     },
     "execution_count": 86,
     "metadata": {},
     "output_type": "execute_result"
    }
   ],
   "source": [
    "final_data.head()"
   ]
  }
 ],
 "metadata": {
  "kernelspec": {
   "display_name": "Python 3 (ipykernel)",
   "language": "python",
   "name": "python3"
  },
  "language_info": {
   "codemirror_mode": {
    "name": "ipython",
    "version": 3
   },
   "file_extension": ".py",
   "mimetype": "text/x-python",
   "name": "python",
   "nbconvert_exporter": "python",
   "pygments_lexer": "ipython3",
   "version": "3.9.12"
  }
 },
 "nbformat": 4,
 "nbformat_minor": 5
}
