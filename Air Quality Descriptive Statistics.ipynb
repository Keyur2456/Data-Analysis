{
 "cells": [
  {
   "cell_type": "markdown",
   "id": "5b41b95c",
   "metadata": {},
   "source": [
    "# Load the libraries"
   ]
  },
  {
   "cell_type": "code",
   "execution_count": null,
   "id": "4a7e6574",
   "metadata": {},
   "outputs": [],
   "source": [
    "import pandas as pd\n",
    "import matplotlib.pyplot as plt\n",
    "from statistics import mean\n",
    "from datetime import datetime\n",
    "import seaborn as sns"
   ]
  },
  {
   "cell_type": "markdown",
   "id": "5e0d5842",
   "metadata": {},
   "source": [
    "# About Dataset\n",
    "The dataset includes information on air quality and the AQI (Air Quality Index) at the hourly and daily levels from numerous stations located throughout various Indian cities. \n",
    "Cities covered in this dataset are Ahmedabad, Aizawl, Amaravati, Amritsar, Bengaluru, Bhopal, Brajrajnagar, Chandigarh, Chennai, Coimbatore, Delhi, Ernakulam, Gurugram, Guwahati, Hyderabad, Jaipur, Jorapokhar, Kochi, Kolkata, Lucknow, Mumbai, Patna, Shillong, Talcher, Thiruvananthapuram, Visakhapatnam.\n",
    "The dataset for air quality of India is compared with the dataset for air quality in Madrid.\n"
   ]
  },
  {
   "cell_type": "markdown",
   "id": "3f168498",
   "metadata": {},
   "source": [
    "# Loading the Dataset"
   ]
  },
  {
   "cell_type": "code",
   "execution_count": null,
   "id": "faf12aa3",
   "metadata": {},
   "outputs": [],
   "source": [
    "station_list_india = pd.read_csv(\"air-quality-india/stations_india.csv\")\n",
    "station_list_madrid = pd.read_csv(\"air-quality-madrid/stations.csv\")\n",
    "city_day = pd.read_csv(\"air-quality-india/city_day.csv\")\n",
    "city_hour = pd.read_csv(\"air-quality-india/city_hour.csv\")\n",
    "station_day = pd.read_csv(\"air-quality-india/station_day.csv\")\n",
    "station_hour = pd.read_csv(\"air-quality-india/station_hour.csv\")\n",
    "madrid_2015 = pd.read_csv(\"air-quality-madrid/madrid_2015.csv\")\n",
    "madrid_2016 = pd.read_csv(\"air-quality-madrid/madrid_2016.csv\")\n",
    "madrid_2017 = pd.read_csv(\"air-quality-madrid/madrid_2017.csv\")\n",
    "madrid_2018 = pd.read_csv(\"air-quality-madrid/madrid_2018.csv\")"
   ]
  },
  {
   "cell_type": "markdown",
   "id": "08a90388",
   "metadata": {},
   "source": [
    "# Merge the data"
   ]
  },
  {
   "cell_type": "code",
   "execution_count": 4,
   "id": "e16aafab",
   "metadata": {},
   "outputs": [],
   "source": [
    "station_list = pd.concat([station_list_madrid, station_list_india], ignore_index=True, sort=False)"
   ]
  },
  {
   "cell_type": "code",
   "execution_count": 5,
   "id": "2c26371c",
   "metadata": {},
   "outputs": [
    {
     "data": {
      "text/plain": [
       "Index(['date', 'BEN', 'CO', 'EBE', 'NMHC', 'NO', 'NO_2', 'O_3', 'PM10', 'PM25',\n",
       "       'SO_2', 'TCH', 'TOL', 'station', 'CH4', 'NOx'],\n",
       "      dtype='object')"
      ]
     },
     "execution_count": 5,
     "metadata": {},
     "output_type": "execute_result"
    }
   ],
   "source": [
    "madrid_data = pd.concat([madrid_2015, madrid_2016, madrid_2017, madrid_2018])\n",
    "madrid_data.columns"
   ]
  },
  {
   "cell_type": "code",
   "execution_count": 6,
   "id": "5d291015",
   "metadata": {},
   "outputs": [
    {
     "data": {
      "text/plain": [
       "Index(['Unnamed: 0', 'StationId', 'Date', 'PM2.5', 'PM10', 'NO', 'NO2', 'NOx',\n",
       "       'NH3', 'CO', 'SO2', 'O3', 'Benzene', 'Toluene', 'Xylene', 'AQI',\n",
       "       'AQI_Bucket', 'StationName', 'City', 'State', 'Status', 'Region',\n",
       "       'Month', 'Year', 'Season', 'Weekday_or_weekend',\n",
       "       'Regular_day_or_holiday', 'AQ_Acceptability', 'Day_period'],\n",
       "      dtype='object')"
      ]
     },
     "execution_count": 6,
     "metadata": {},
     "output_type": "execute_result"
    }
   ],
   "source": [
    "station_hour.rename(columns = {'Datetime':'Date'}, inplace = True)\n",
    "city_hour.rename(columns = {'Datetime':'Date'}, inplace = True)\n",
    "india_data = pd.concat([station_day, station_hour, city_hour, city_day])\n",
    "india_data.columns"
   ]
  },
  {
   "cell_type": "markdown",
   "id": "dccb3381",
   "metadata": {},
   "source": [
    "# Sample Data"
   ]
  },
  {
   "cell_type": "code",
   "execution_count": 45,
   "id": "19fa58bc",
   "metadata": {},
   "outputs": [
    {
     "data": {
      "text/html": [
       "<div>\n",
       "<style scoped>\n",
       "    .dataframe tbody tr th:only-of-type {\n",
       "        vertical-align: middle;\n",
       "    }\n",
       "\n",
       "    .dataframe tbody tr th {\n",
       "        vertical-align: top;\n",
       "    }\n",
       "\n",
       "    .dataframe thead th {\n",
       "        text-align: right;\n",
       "    }\n",
       "</style>\n",
       "<table border=\"1\" class=\"dataframe\">\n",
       "  <thead>\n",
       "    <tr style=\"text-align: right;\">\n",
       "      <th></th>\n",
       "      <th>StationId</th>\n",
       "      <th>StationName</th>\n",
       "      <th>address</th>\n",
       "      <th>lon</th>\n",
       "      <th>lat</th>\n",
       "      <th>elevation</th>\n",
       "      <th>City</th>\n",
       "      <th>State</th>\n",
       "      <th>Status</th>\n",
       "      <th>Region</th>\n",
       "    </tr>\n",
       "  </thead>\n",
       "  <tbody>\n",
       "    <tr>\n",
       "      <th>0</th>\n",
       "      <td>28079004</td>\n",
       "      <td>Pza. de España</td>\n",
       "      <td>Plaza de España</td>\n",
       "      <td>-3.712247</td>\n",
       "      <td>40.423853</td>\n",
       "      <td>635.0</td>\n",
       "      <td>NaN</td>\n",
       "      <td>NaN</td>\n",
       "      <td>NaN</td>\n",
       "      <td>NaN</td>\n",
       "    </tr>\n",
       "    <tr>\n",
       "      <th>1</th>\n",
       "      <td>28079008</td>\n",
       "      <td>Escuelas Aguirre</td>\n",
       "      <td>Entre C/ Alcalá y C/ O’ Donell</td>\n",
       "      <td>-3.682319</td>\n",
       "      <td>40.421564</td>\n",
       "      <td>670.0</td>\n",
       "      <td>NaN</td>\n",
       "      <td>NaN</td>\n",
       "      <td>NaN</td>\n",
       "      <td>NaN</td>\n",
       "    </tr>\n",
       "    <tr>\n",
       "      <th>2</th>\n",
       "      <td>28079011</td>\n",
       "      <td>Avda. Ramón y Cajal</td>\n",
       "      <td>Avda. Ramón y Cajal  esq. C/ Príncipe de Vergara</td>\n",
       "      <td>-3.677356</td>\n",
       "      <td>40.451475</td>\n",
       "      <td>708.0</td>\n",
       "      <td>NaN</td>\n",
       "      <td>NaN</td>\n",
       "      <td>NaN</td>\n",
       "      <td>NaN</td>\n",
       "    </tr>\n",
       "    <tr>\n",
       "      <th>3</th>\n",
       "      <td>28079016</td>\n",
       "      <td>Arturo Soria</td>\n",
       "      <td>C/ Arturo Soria  esq. C/  Vizconde de los Asilos</td>\n",
       "      <td>-3.639233</td>\n",
       "      <td>40.440047</td>\n",
       "      <td>693.0</td>\n",
       "      <td>NaN</td>\n",
       "      <td>NaN</td>\n",
       "      <td>NaN</td>\n",
       "      <td>NaN</td>\n",
       "    </tr>\n",
       "    <tr>\n",
       "      <th>4</th>\n",
       "      <td>28079017</td>\n",
       "      <td>Villaverde</td>\n",
       "      <td>C/. Juan Peñalver</td>\n",
       "      <td>-3.713322</td>\n",
       "      <td>40.347139</td>\n",
       "      <td>604.0</td>\n",
       "      <td>NaN</td>\n",
       "      <td>NaN</td>\n",
       "      <td>NaN</td>\n",
       "      <td>NaN</td>\n",
       "    </tr>\n",
       "  </tbody>\n",
       "</table>\n",
       "</div>"
      ],
      "text/plain": [
       "  StationId          StationName  \\\n",
       "0  28079004       Pza. de España   \n",
       "1  28079008     Escuelas Aguirre   \n",
       "2  28079011  Avda. Ramón y Cajal   \n",
       "3  28079016         Arturo Soria   \n",
       "4  28079017           Villaverde   \n",
       "\n",
       "                                             address       lon        lat  \\\n",
       "0                                    Plaza de España -3.712247  40.423853   \n",
       "1                    Entre C/ Alcalá y C/ O’ Donell  -3.682319  40.421564   \n",
       "2   Avda. Ramón y Cajal  esq. C/ Príncipe de Vergara -3.677356  40.451475   \n",
       "3  C/ Arturo Soria  esq. C/  Vizconde de los Asilos  -3.639233  40.440047   \n",
       "4                                  C/. Juan Peñalver -3.713322  40.347139   \n",
       "\n",
       "   elevation City State Status Region  \n",
       "0      635.0  NaN   NaN    NaN    NaN  \n",
       "1      670.0  NaN   NaN    NaN    NaN  \n",
       "2      708.0  NaN   NaN    NaN    NaN  \n",
       "3      693.0  NaN   NaN    NaN    NaN  \n",
       "4      604.0  NaN   NaN    NaN    NaN  "
      ]
     },
     "execution_count": 45,
     "metadata": {},
     "output_type": "execute_result"
    }
   ],
   "source": [
    "station_list.head()"
   ]
  },
  {
   "cell_type": "code",
   "execution_count": 55,
   "id": "35845404",
   "metadata": {},
   "outputs": [
    {
     "data": {
      "text/html": [
       "<div>\n",
       "<style scoped>\n",
       "    .dataframe tbody tr th:only-of-type {\n",
       "        vertical-align: middle;\n",
       "    }\n",
       "\n",
       "    .dataframe tbody tr th {\n",
       "        vertical-align: top;\n",
       "    }\n",
       "\n",
       "    .dataframe thead th {\n",
       "        text-align: right;\n",
       "    }\n",
       "</style>\n",
       "<table border=\"1\" class=\"dataframe\">\n",
       "  <thead>\n",
       "    <tr style=\"text-align: right;\">\n",
       "      <th></th>\n",
       "      <th>Unnamed: 0</th>\n",
       "      <th>StationId</th>\n",
       "      <th>Date</th>\n",
       "      <th>PM2.5</th>\n",
       "      <th>PM10</th>\n",
       "      <th>NO</th>\n",
       "      <th>NO2</th>\n",
       "      <th>NOx</th>\n",
       "      <th>NH3</th>\n",
       "      <th>CO</th>\n",
       "      <th>...</th>\n",
       "      <th>State</th>\n",
       "      <th>Status</th>\n",
       "      <th>Region</th>\n",
       "      <th>Month</th>\n",
       "      <th>Year</th>\n",
       "      <th>Season</th>\n",
       "      <th>Weekday_or_weekend</th>\n",
       "      <th>Regular_day_or_holiday</th>\n",
       "      <th>AQ_Acceptability</th>\n",
       "      <th>Day_period</th>\n",
       "    </tr>\n",
       "  </thead>\n",
       "  <tbody>\n",
       "    <tr>\n",
       "      <th>0</th>\n",
       "      <td>0</td>\n",
       "      <td>AP001</td>\n",
       "      <td>2017-11-24</td>\n",
       "      <td>71.36</td>\n",
       "      <td>115.75</td>\n",
       "      <td>1.75</td>\n",
       "      <td>20.65</td>\n",
       "      <td>12.40</td>\n",
       "      <td>12.19</td>\n",
       "      <td>0.10</td>\n",
       "      <td>...</td>\n",
       "      <td>Andhra Pradesh</td>\n",
       "      <td>Active</td>\n",
       "      <td>5. Western</td>\n",
       "      <td>11. Nov</td>\n",
       "      <td>2017</td>\n",
       "      <td>4. Post-Monsoon</td>\n",
       "      <td>Weekday</td>\n",
       "      <td>Regular day</td>\n",
       "      <td>Unacceptable</td>\n",
       "      <td>NaN</td>\n",
       "    </tr>\n",
       "    <tr>\n",
       "      <th>1</th>\n",
       "      <td>1</td>\n",
       "      <td>AP001</td>\n",
       "      <td>2017-11-25</td>\n",
       "      <td>81.40</td>\n",
       "      <td>124.50</td>\n",
       "      <td>1.44</td>\n",
       "      <td>20.50</td>\n",
       "      <td>12.08</td>\n",
       "      <td>10.72</td>\n",
       "      <td>0.12</td>\n",
       "      <td>...</td>\n",
       "      <td>Andhra Pradesh</td>\n",
       "      <td>Active</td>\n",
       "      <td>5. Western</td>\n",
       "      <td>11. Nov</td>\n",
       "      <td>2017</td>\n",
       "      <td>4. Post-Monsoon</td>\n",
       "      <td>Weekend</td>\n",
       "      <td>Regular day</td>\n",
       "      <td>Unacceptable</td>\n",
       "      <td>NaN</td>\n",
       "    </tr>\n",
       "    <tr>\n",
       "      <th>2</th>\n",
       "      <td>2</td>\n",
       "      <td>AP001</td>\n",
       "      <td>2017-11-26</td>\n",
       "      <td>78.32</td>\n",
       "      <td>129.06</td>\n",
       "      <td>1.26</td>\n",
       "      <td>26.00</td>\n",
       "      <td>14.85</td>\n",
       "      <td>10.28</td>\n",
       "      <td>0.14</td>\n",
       "      <td>...</td>\n",
       "      <td>Andhra Pradesh</td>\n",
       "      <td>Active</td>\n",
       "      <td>5. Western</td>\n",
       "      <td>11. Nov</td>\n",
       "      <td>2017</td>\n",
       "      <td>4. Post-Monsoon</td>\n",
       "      <td>Weekend</td>\n",
       "      <td>Regular day</td>\n",
       "      <td>Unacceptable</td>\n",
       "      <td>NaN</td>\n",
       "    </tr>\n",
       "    <tr>\n",
       "      <th>3</th>\n",
       "      <td>3</td>\n",
       "      <td>AP001</td>\n",
       "      <td>2017-11-27</td>\n",
       "      <td>88.76</td>\n",
       "      <td>135.32</td>\n",
       "      <td>6.60</td>\n",
       "      <td>30.85</td>\n",
       "      <td>21.77</td>\n",
       "      <td>12.91</td>\n",
       "      <td>0.11</td>\n",
       "      <td>...</td>\n",
       "      <td>Andhra Pradesh</td>\n",
       "      <td>Active</td>\n",
       "      <td>5. Western</td>\n",
       "      <td>11. Nov</td>\n",
       "      <td>2017</td>\n",
       "      <td>4. Post-Monsoon</td>\n",
       "      <td>Weekday</td>\n",
       "      <td>Regular day</td>\n",
       "      <td>Unacceptable</td>\n",
       "      <td>NaN</td>\n",
       "    </tr>\n",
       "    <tr>\n",
       "      <th>4</th>\n",
       "      <td>4</td>\n",
       "      <td>AP001</td>\n",
       "      <td>2017-11-28</td>\n",
       "      <td>64.18</td>\n",
       "      <td>104.09</td>\n",
       "      <td>2.56</td>\n",
       "      <td>28.07</td>\n",
       "      <td>17.01</td>\n",
       "      <td>11.42</td>\n",
       "      <td>0.09</td>\n",
       "      <td>...</td>\n",
       "      <td>Andhra Pradesh</td>\n",
       "      <td>Active</td>\n",
       "      <td>5. Western</td>\n",
       "      <td>11. Nov</td>\n",
       "      <td>2017</td>\n",
       "      <td>4. Post-Monsoon</td>\n",
       "      <td>Weekday</td>\n",
       "      <td>Regular day</td>\n",
       "      <td>Unacceptable</td>\n",
       "      <td>NaN</td>\n",
       "    </tr>\n",
       "  </tbody>\n",
       "</table>\n",
       "<p>5 rows × 29 columns</p>\n",
       "</div>"
      ],
      "text/plain": [
       "   Unnamed: 0 StationId        Date  PM2.5    PM10    NO    NO2    NOx    NH3  \\\n",
       "0           0     AP001  2017-11-24  71.36  115.75  1.75  20.65  12.40  12.19   \n",
       "1           1     AP001  2017-11-25  81.40  124.50  1.44  20.50  12.08  10.72   \n",
       "2           2     AP001  2017-11-26  78.32  129.06  1.26  26.00  14.85  10.28   \n",
       "3           3     AP001  2017-11-27  88.76  135.32  6.60  30.85  21.77  12.91   \n",
       "4           4     AP001  2017-11-28  64.18  104.09  2.56  28.07  17.01  11.42   \n",
       "\n",
       "     CO  ...           State  Status      Region    Month  Year  \\\n",
       "0  0.10  ...  Andhra Pradesh  Active  5. Western  11. Nov  2017   \n",
       "1  0.12  ...  Andhra Pradesh  Active  5. Western  11. Nov  2017   \n",
       "2  0.14  ...  Andhra Pradesh  Active  5. Western  11. Nov  2017   \n",
       "3  0.11  ...  Andhra Pradesh  Active  5. Western  11. Nov  2017   \n",
       "4  0.09  ...  Andhra Pradesh  Active  5. Western  11. Nov  2017   \n",
       "\n",
       "            Season Weekday_or_weekend Regular_day_or_holiday AQ_Acceptability  \\\n",
       "0  4. Post-Monsoon            Weekday            Regular day     Unacceptable   \n",
       "1  4. Post-Monsoon            Weekend            Regular day     Unacceptable   \n",
       "2  4. Post-Monsoon            Weekend            Regular day     Unacceptable   \n",
       "3  4. Post-Monsoon            Weekday            Regular day     Unacceptable   \n",
       "4  4. Post-Monsoon            Weekday            Regular day     Unacceptable   \n",
       "\n",
       "  Day_period  \n",
       "0        NaN  \n",
       "1        NaN  \n",
       "2        NaN  \n",
       "3        NaN  \n",
       "4        NaN  \n",
       "\n",
       "[5 rows x 29 columns]"
      ]
     },
     "execution_count": 55,
     "metadata": {},
     "output_type": "execute_result"
    }
   ],
   "source": [
    "india_data.head()"
   ]
  },
  {
   "cell_type": "code",
   "execution_count": 46,
   "id": "42d2c747",
   "metadata": {},
   "outputs": [
    {
     "data": {
      "text/html": [
       "<div>\n",
       "<style scoped>\n",
       "    .dataframe tbody tr th:only-of-type {\n",
       "        vertical-align: middle;\n",
       "    }\n",
       "\n",
       "    .dataframe tbody tr th {\n",
       "        vertical-align: top;\n",
       "    }\n",
       "\n",
       "    .dataframe thead th {\n",
       "        text-align: right;\n",
       "    }\n",
       "</style>\n",
       "<table border=\"1\" class=\"dataframe\">\n",
       "  <thead>\n",
       "    <tr style=\"text-align: right;\">\n",
       "      <th></th>\n",
       "      <th>date</th>\n",
       "      <th>BEN</th>\n",
       "      <th>CO</th>\n",
       "      <th>EBE</th>\n",
       "      <th>NMHC</th>\n",
       "      <th>NO</th>\n",
       "      <th>NO_2</th>\n",
       "      <th>O_3</th>\n",
       "      <th>PM10</th>\n",
       "      <th>PM25</th>\n",
       "      <th>SO_2</th>\n",
       "      <th>TCH</th>\n",
       "      <th>TOL</th>\n",
       "      <th>station</th>\n",
       "      <th>CH4</th>\n",
       "      <th>NOx</th>\n",
       "    </tr>\n",
       "  </thead>\n",
       "  <tbody>\n",
       "    <tr>\n",
       "      <th>0</th>\n",
       "      <td>2015-10-01 01:00:00</td>\n",
       "      <td>NaN</td>\n",
       "      <td>0.8</td>\n",
       "      <td>NaN</td>\n",
       "      <td>NaN</td>\n",
       "      <td>90.0</td>\n",
       "      <td>82.0</td>\n",
       "      <td>NaN</td>\n",
       "      <td>NaN</td>\n",
       "      <td>NaN</td>\n",
       "      <td>10.0</td>\n",
       "      <td>NaN</td>\n",
       "      <td>NaN</td>\n",
       "      <td>28079004</td>\n",
       "      <td>NaN</td>\n",
       "      <td>NaN</td>\n",
       "    </tr>\n",
       "    <tr>\n",
       "      <th>1</th>\n",
       "      <td>2015-10-01 01:00:00</td>\n",
       "      <td>2.0</td>\n",
       "      <td>0.8</td>\n",
       "      <td>1.6</td>\n",
       "      <td>0.33</td>\n",
       "      <td>40.0</td>\n",
       "      <td>95.0</td>\n",
       "      <td>4.0</td>\n",
       "      <td>37.0</td>\n",
       "      <td>24.0</td>\n",
       "      <td>12.0</td>\n",
       "      <td>1.83</td>\n",
       "      <td>8.3</td>\n",
       "      <td>28079008</td>\n",
       "      <td>NaN</td>\n",
       "      <td>NaN</td>\n",
       "    </tr>\n",
       "    <tr>\n",
       "      <th>2</th>\n",
       "      <td>2015-10-01 01:00:00</td>\n",
       "      <td>3.1</td>\n",
       "      <td>NaN</td>\n",
       "      <td>1.8</td>\n",
       "      <td>NaN</td>\n",
       "      <td>29.0</td>\n",
       "      <td>97.0</td>\n",
       "      <td>NaN</td>\n",
       "      <td>NaN</td>\n",
       "      <td>NaN</td>\n",
       "      <td>NaN</td>\n",
       "      <td>NaN</td>\n",
       "      <td>7.1</td>\n",
       "      <td>28079011</td>\n",
       "      <td>NaN</td>\n",
       "      <td>NaN</td>\n",
       "    </tr>\n",
       "    <tr>\n",
       "      <th>3</th>\n",
       "      <td>2015-10-01 01:00:00</td>\n",
       "      <td>NaN</td>\n",
       "      <td>0.6</td>\n",
       "      <td>NaN</td>\n",
       "      <td>NaN</td>\n",
       "      <td>30.0</td>\n",
       "      <td>103.0</td>\n",
       "      <td>2.0</td>\n",
       "      <td>NaN</td>\n",
       "      <td>NaN</td>\n",
       "      <td>NaN</td>\n",
       "      <td>NaN</td>\n",
       "      <td>NaN</td>\n",
       "      <td>28079016</td>\n",
       "      <td>NaN</td>\n",
       "      <td>NaN</td>\n",
       "    </tr>\n",
       "    <tr>\n",
       "      <th>4</th>\n",
       "      <td>2015-10-01 01:00:00</td>\n",
       "      <td>NaN</td>\n",
       "      <td>NaN</td>\n",
       "      <td>NaN</td>\n",
       "      <td>NaN</td>\n",
       "      <td>95.0</td>\n",
       "      <td>96.0</td>\n",
       "      <td>2.0</td>\n",
       "      <td>NaN</td>\n",
       "      <td>NaN</td>\n",
       "      <td>9.0</td>\n",
       "      <td>NaN</td>\n",
       "      <td>NaN</td>\n",
       "      <td>28079017</td>\n",
       "      <td>NaN</td>\n",
       "      <td>NaN</td>\n",
       "    </tr>\n",
       "  </tbody>\n",
       "</table>\n",
       "</div>"
      ],
      "text/plain": [
       "                  date  BEN   CO  EBE  NMHC    NO   NO_2  O_3  PM10  PM25  \\\n",
       "0  2015-10-01 01:00:00  NaN  0.8  NaN   NaN  90.0   82.0  NaN   NaN   NaN   \n",
       "1  2015-10-01 01:00:00  2.0  0.8  1.6  0.33  40.0   95.0  4.0  37.0  24.0   \n",
       "2  2015-10-01 01:00:00  3.1  NaN  1.8   NaN  29.0   97.0  NaN   NaN   NaN   \n",
       "3  2015-10-01 01:00:00  NaN  0.6  NaN   NaN  30.0  103.0  2.0   NaN   NaN   \n",
       "4  2015-10-01 01:00:00  NaN  NaN  NaN   NaN  95.0   96.0  2.0   NaN   NaN   \n",
       "\n",
       "   SO_2   TCH  TOL   station  CH4  NOx  \n",
       "0  10.0   NaN  NaN  28079004  NaN  NaN  \n",
       "1  12.0  1.83  8.3  28079008  NaN  NaN  \n",
       "2   NaN   NaN  7.1  28079011  NaN  NaN  \n",
       "3   NaN   NaN  NaN  28079016  NaN  NaN  \n",
       "4   9.0   NaN  NaN  28079017  NaN  NaN  "
      ]
     },
     "execution_count": 46,
     "metadata": {},
     "output_type": "execute_result"
    }
   ],
   "source": [
    "madrid_data.head()"
   ]
  },
  {
   "cell_type": "markdown",
   "id": "0e60f5ba",
   "metadata": {},
   "source": [
    "## Number of rows"
   ]
  },
  {
   "cell_type": "code",
   "execution_count": 56,
   "id": "c1fb29c0",
   "metadata": {},
   "outputs": [
    {
     "data": {
      "text/plain": [
       "(254, 10)"
      ]
     },
     "execution_count": 56,
     "metadata": {},
     "output_type": "execute_result"
    }
   ],
   "source": [
    "station_list.shape"
   ]
  },
  {
   "cell_type": "code",
   "execution_count": 57,
   "id": "ac63a532",
   "metadata": {},
   "outputs": [
    {
     "data": {
      "text/plain": [
       "(7360725, 29)"
      ]
     },
     "execution_count": 57,
     "metadata": {},
     "output_type": "execute_result"
    }
   ],
   "source": [
    "india_data.shape"
   ]
  },
  {
   "cell_type": "code",
   "execution_count": 58,
   "id": "c38d6931",
   "metadata": {},
   "outputs": [
    {
     "data": {
      "text/plain": [
       "(698808, 16)"
      ]
     },
     "execution_count": 58,
     "metadata": {},
     "output_type": "execute_result"
    }
   ],
   "source": [
    "madrid_data.shape"
   ]
  },
  {
   "cell_type": "markdown",
   "id": "770b1b20",
   "metadata": {},
   "source": [
    "## Columns in Datasets"
   ]
  },
  {
   "cell_type": "code",
   "execution_count": 59,
   "id": "1f3dc688",
   "metadata": {},
   "outputs": [
    {
     "data": {
      "text/plain": [
       "Index(['StationId', 'StationName', 'address', 'lon', 'lat', 'elevation',\n",
       "       'City', 'State', 'Status', 'Region'],\n",
       "      dtype='object')"
      ]
     },
     "execution_count": 59,
     "metadata": {},
     "output_type": "execute_result"
    }
   ],
   "source": [
    "station_list.columns"
   ]
  },
  {
   "cell_type": "code",
   "execution_count": 60,
   "id": "7073a66b",
   "metadata": {},
   "outputs": [
    {
     "data": {
      "text/plain": [
       "Index(['Unnamed: 0', 'StationId', 'Date', 'PM2.5', 'PM10', 'NO', 'NO2', 'NOx',\n",
       "       'NH3', 'CO', 'SO2', 'O3', 'Benzene', 'Toluene', 'Xylene', 'AQI',\n",
       "       'AQI_Bucket', 'StationName', 'City', 'State', 'Status', 'Region',\n",
       "       'Month', 'Year', 'Season', 'Weekday_or_weekend',\n",
       "       'Regular_day_or_holiday', 'AQ_Acceptability', 'Day_period'],\n",
       "      dtype='object')"
      ]
     },
     "execution_count": 60,
     "metadata": {},
     "output_type": "execute_result"
    }
   ],
   "source": [
    "india_data.columns"
   ]
  },
  {
   "cell_type": "code",
   "execution_count": 61,
   "id": "a127834d",
   "metadata": {},
   "outputs": [
    {
     "data": {
      "text/plain": [
       "Index(['date', 'BEN', 'CO', 'EBE', 'NMHC', 'NO', 'NO_2', 'O_3', 'PM10', 'PM25',\n",
       "       'SO_2', 'TCH', 'TOL', 'station', 'CH4', 'NOx'],\n",
       "      dtype='object')"
      ]
     },
     "execution_count": 61,
     "metadata": {},
     "output_type": "execute_result"
    }
   ],
   "source": [
    "madrid_data.columns"
   ]
  },
  {
   "cell_type": "markdown",
   "id": "c352326c",
   "metadata": {},
   "source": [
    "# Descriptive statistics for numerical fields in Datasets"
   ]
  },
  {
   "cell_type": "code",
   "execution_count": 63,
   "id": "e5769542",
   "metadata": {},
   "outputs": [
    {
     "data": {
      "text/html": [
       "<div>\n",
       "<style scoped>\n",
       "    .dataframe tbody tr th:only-of-type {\n",
       "        vertical-align: middle;\n",
       "    }\n",
       "\n",
       "    .dataframe tbody tr th {\n",
       "        vertical-align: top;\n",
       "    }\n",
       "\n",
       "    .dataframe thead th {\n",
       "        text-align: right;\n",
       "    }\n",
       "</style>\n",
       "<table border=\"1\" class=\"dataframe\">\n",
       "  <thead>\n",
       "    <tr style=\"text-align: right;\">\n",
       "      <th></th>\n",
       "      <th>Unnamed: 0</th>\n",
       "      <th>PM2.5</th>\n",
       "      <th>PM10</th>\n",
       "      <th>NO</th>\n",
       "      <th>NO2</th>\n",
       "      <th>NOx</th>\n",
       "      <th>NH3</th>\n",
       "      <th>CO</th>\n",
       "      <th>SO2</th>\n",
       "      <th>O3</th>\n",
       "      <th>Benzene</th>\n",
       "      <th>Toluene</th>\n",
       "      <th>Xylene</th>\n",
       "      <th>AQI</th>\n",
       "      <th>Year</th>\n",
       "    </tr>\n",
       "  </thead>\n",
       "  <tbody>\n",
       "    <tr>\n",
       "      <th>count</th>\n",
       "      <td>7.360725e+06</td>\n",
       "      <td>6.069697e+06</td>\n",
       "      <td>4.730506e+06</td>\n",
       "      <td>6.276534e+06</td>\n",
       "      <td>6.300921e+06</td>\n",
       "      <td>6.450825e+06</td>\n",
       "      <td>4.797621e+06</td>\n",
       "      <td>6.589653e+06</td>\n",
       "      <td>5.947634e+06</td>\n",
       "      <td>5.959825e+06</td>\n",
       "      <td>5.968232e+06</td>\n",
       "      <td>5.560459e+06</td>\n",
       "      <td>2.635136e+06</td>\n",
       "      <td>6.170755e+06</td>\n",
       "      <td>7.360725e+06</td>\n",
       "    </tr>\n",
       "    <tr>\n",
       "      <th>mean</th>\n",
       "      <td>1.819986e+06</td>\n",
       "      <td>8.632343e+01</td>\n",
       "      <td>1.700344e+02</td>\n",
       "      <td>2.524522e+01</td>\n",
       "      <td>3.748860e+01</td>\n",
       "      <td>4.280135e+01</td>\n",
       "      <td>3.229840e+01</td>\n",
       "      <td>1.581000e+00</td>\n",
       "      <td>1.287080e+01</td>\n",
       "      <td>4.067447e+01</td>\n",
       "      <td>3.077682e+00</td>\n",
       "      <td>1.254262e+01</td>\n",
       "      <td>2.069093e+00</td>\n",
       "      <td>1.924205e+02</td>\n",
       "      <td>2.017708e+03</td>\n",
       "    </tr>\n",
       "    <tr>\n",
       "      <th>std</th>\n",
       "      <td>1.239945e+06</td>\n",
       "      <td>8.903990e+01</td>\n",
       "      <td>1.364677e+02</td>\n",
       "      <td>4.388716e+01</td>\n",
       "      <td>3.106903e+01</td>\n",
       "      <td>4.956152e+01</td>\n",
       "      <td>2.659739e+01</td>\n",
       "      <td>5.333143e+00</td>\n",
       "      <td>1.360911e+01</td>\n",
       "      <td>3.751305e+01</td>\n",
       "      <td>9.477549e+00</td>\n",
       "      <td>2.331151e+01</td>\n",
       "      <td>6.461928e+00</td>\n",
       "      <td>1.356323e+02</td>\n",
       "      <td>1.577901e+00</td>\n",
       "    </tr>\n",
       "    <tr>\n",
       "      <th>min</th>\n",
       "      <td>0.000000e+00</td>\n",
       "      <td>1.000000e-02</td>\n",
       "      <td>1.000000e-02</td>\n",
       "      <td>1.000000e-02</td>\n",
       "      <td>1.000000e-02</td>\n",
       "      <td>0.000000e+00</td>\n",
       "      <td>1.000000e-02</td>\n",
       "      <td>0.000000e+00</td>\n",
       "      <td>1.000000e-02</td>\n",
       "      <td>1.000000e-02</td>\n",
       "      <td>0.000000e+00</td>\n",
       "      <td>0.000000e+00</td>\n",
       "      <td>0.000000e+00</td>\n",
       "      <td>5.000000e+00</td>\n",
       "      <td>2.015000e+03</td>\n",
       "    </tr>\n",
       "    <tr>\n",
       "      <th>25%</th>\n",
       "      <td>7.727380e+05</td>\n",
       "      <td>3.150000e+01</td>\n",
       "      <td>7.200000e+01</td>\n",
       "      <td>4.770000e+00</td>\n",
       "      <td>1.642000e+01</td>\n",
       "      <td>1.414000e+01</td>\n",
       "      <td>1.513000e+01</td>\n",
       "      <td>4.800000e-01</td>\n",
       "      <td>5.260000e+00</td>\n",
       "      <td>1.686000e+01</td>\n",
       "      <td>2.700000e-01</td>\n",
       "      <td>9.500000e-01</td>\n",
       "      <td>0.000000e+00</td>\n",
       "      <td>9.000000e+01</td>\n",
       "      <td>2.016000e+03</td>\n",
       "    </tr>\n",
       "    <tr>\n",
       "      <th>50%</th>\n",
       "      <td>1.692828e+06</td>\n",
       "      <td>5.756000e+01</td>\n",
       "      <td>1.288600e+02</td>\n",
       "      <td>1.017000e+01</td>\n",
       "      <td>2.917000e+01</td>\n",
       "      <td>2.712000e+01</td>\n",
       "      <td>2.805000e+01</td>\n",
       "      <td>8.800000e-01</td>\n",
       "      <td>9.400000e+00</td>\n",
       "      <td>3.081000e+01</td>\n",
       "      <td>1.440000e+00</td>\n",
       "      <td>4.830000e+00</td>\n",
       "      <td>3.600000e-01</td>\n",
       "      <td>1.480000e+02</td>\n",
       "      <td>2.018000e+03</td>\n",
       "    </tr>\n",
       "    <tr>\n",
       "      <th>75%</th>\n",
       "      <td>2.636755e+06</td>\n",
       "      <td>1.079700e+02</td>\n",
       "      <td>2.292900e+02</td>\n",
       "      <td>2.405000e+01</td>\n",
       "      <td>4.951000e+01</td>\n",
       "      <td>5.128000e+01</td>\n",
       "      <td>4.136000e+01</td>\n",
       "      <td>1.420000e+00</td>\n",
       "      <td>1.575000e+01</td>\n",
       "      <td>5.455000e+01</td>\n",
       "      <td>3.410000e+00</td>\n",
       "      <td>1.517000e+01</td>\n",
       "      <td>1.880000e+00</td>\n",
       "      <td>2.850000e+02</td>\n",
       "      <td>2.019000e+03</td>\n",
       "    </tr>\n",
       "    <tr>\n",
       "      <th>max</th>\n",
       "      <td>4.476936e+06</td>\n",
       "      <td>1.000000e+03</td>\n",
       "      <td>1.000000e+03</td>\n",
       "      <td>5.000000e+02</td>\n",
       "      <td>4.999900e+02</td>\n",
       "      <td>5.000000e+02</td>\n",
       "      <td>4.999700e+02</td>\n",
       "      <td>4.985700e+02</td>\n",
       "      <td>1.999600e+02</td>\n",
       "      <td>9.970000e+02</td>\n",
       "      <td>4.980700e+02</td>\n",
       "      <td>4.999900e+02</td>\n",
       "      <td>4.999900e+02</td>\n",
       "      <td>3.133000e+03</td>\n",
       "      <td>2.020000e+03</td>\n",
       "    </tr>\n",
       "  </tbody>\n",
       "</table>\n",
       "</div>"
      ],
      "text/plain": [
       "         Unnamed: 0         PM2.5          PM10            NO           NO2  \\\n",
       "count  7.360725e+06  6.069697e+06  4.730506e+06  6.276534e+06  6.300921e+06   \n",
       "mean   1.819986e+06  8.632343e+01  1.700344e+02  2.524522e+01  3.748860e+01   \n",
       "std    1.239945e+06  8.903990e+01  1.364677e+02  4.388716e+01  3.106903e+01   \n",
       "min    0.000000e+00  1.000000e-02  1.000000e-02  1.000000e-02  1.000000e-02   \n",
       "25%    7.727380e+05  3.150000e+01  7.200000e+01  4.770000e+00  1.642000e+01   \n",
       "50%    1.692828e+06  5.756000e+01  1.288600e+02  1.017000e+01  2.917000e+01   \n",
       "75%    2.636755e+06  1.079700e+02  2.292900e+02  2.405000e+01  4.951000e+01   \n",
       "max    4.476936e+06  1.000000e+03  1.000000e+03  5.000000e+02  4.999900e+02   \n",
       "\n",
       "                NOx           NH3            CO           SO2            O3  \\\n",
       "count  6.450825e+06  4.797621e+06  6.589653e+06  5.947634e+06  5.959825e+06   \n",
       "mean   4.280135e+01  3.229840e+01  1.581000e+00  1.287080e+01  4.067447e+01   \n",
       "std    4.956152e+01  2.659739e+01  5.333143e+00  1.360911e+01  3.751305e+01   \n",
       "min    0.000000e+00  1.000000e-02  0.000000e+00  1.000000e-02  1.000000e-02   \n",
       "25%    1.414000e+01  1.513000e+01  4.800000e-01  5.260000e+00  1.686000e+01   \n",
       "50%    2.712000e+01  2.805000e+01  8.800000e-01  9.400000e+00  3.081000e+01   \n",
       "75%    5.128000e+01  4.136000e+01  1.420000e+00  1.575000e+01  5.455000e+01   \n",
       "max    5.000000e+02  4.999700e+02  4.985700e+02  1.999600e+02  9.970000e+02   \n",
       "\n",
       "            Benzene       Toluene        Xylene           AQI          Year  \n",
       "count  5.968232e+06  5.560459e+06  2.635136e+06  6.170755e+06  7.360725e+06  \n",
       "mean   3.077682e+00  1.254262e+01  2.069093e+00  1.924205e+02  2.017708e+03  \n",
       "std    9.477549e+00  2.331151e+01  6.461928e+00  1.356323e+02  1.577901e+00  \n",
       "min    0.000000e+00  0.000000e+00  0.000000e+00  5.000000e+00  2.015000e+03  \n",
       "25%    2.700000e-01  9.500000e-01  0.000000e+00  9.000000e+01  2.016000e+03  \n",
       "50%    1.440000e+00  4.830000e+00  3.600000e-01  1.480000e+02  2.018000e+03  \n",
       "75%    3.410000e+00  1.517000e+01  1.880000e+00  2.850000e+02  2.019000e+03  \n",
       "max    4.980700e+02  4.999900e+02  4.999900e+02  3.133000e+03  2.020000e+03  "
      ]
     },
     "execution_count": 63,
     "metadata": {},
     "output_type": "execute_result"
    }
   ],
   "source": [
    "india_data.describe()"
   ]
  },
  {
   "cell_type": "code",
   "execution_count": 64,
   "id": "2fea2eff",
   "metadata": {},
   "outputs": [
    {
     "data": {
      "text/html": [
       "<div>\n",
       "<style scoped>\n",
       "    .dataframe tbody tr th:only-of-type {\n",
       "        vertical-align: middle;\n",
       "    }\n",
       "\n",
       "    .dataframe tbody tr th {\n",
       "        vertical-align: top;\n",
       "    }\n",
       "\n",
       "    .dataframe thead th {\n",
       "        text-align: right;\n",
       "    }\n",
       "</style>\n",
       "<table border=\"1\" class=\"dataframe\">\n",
       "  <thead>\n",
       "    <tr style=\"text-align: right;\">\n",
       "      <th></th>\n",
       "      <th>BEN</th>\n",
       "      <th>CO</th>\n",
       "      <th>EBE</th>\n",
       "      <th>NMHC</th>\n",
       "      <th>NO</th>\n",
       "      <th>NO_2</th>\n",
       "      <th>O_3</th>\n",
       "      <th>PM10</th>\n",
       "      <th>PM25</th>\n",
       "      <th>SO_2</th>\n",
       "      <th>TCH</th>\n",
       "      <th>TOL</th>\n",
       "      <th>station</th>\n",
       "      <th>CH4</th>\n",
       "      <th>NOx</th>\n",
       "    </tr>\n",
       "  </thead>\n",
       "  <tbody>\n",
       "    <tr>\n",
       "      <th>count</th>\n",
       "      <td>168945.000000</td>\n",
       "      <td>288425.000000</td>\n",
       "      <td>168219.000000</td>\n",
       "      <td>85638.000000</td>\n",
       "      <td>695310.000000</td>\n",
       "      <td>695310.000000</td>\n",
       "      <td>404218.000000</td>\n",
       "      <td>346689.000000</td>\n",
       "      <td>171898.000000</td>\n",
       "      <td>288310.000000</td>\n",
       "      <td>85638.000000</td>\n",
       "      <td>168355.000000</td>\n",
       "      <td>6.988080e+05</td>\n",
       "      <td>14850.000000</td>\n",
       "      <td>121644.000000</td>\n",
       "    </tr>\n",
       "    <tr>\n",
       "      <th>mean</th>\n",
       "      <td>0.651407</td>\n",
       "      <td>0.360093</td>\n",
       "      <td>0.409643</td>\n",
       "      <td>0.160830</td>\n",
       "      <td>23.655151</td>\n",
       "      <td>40.202041</td>\n",
       "      <td>48.885648</td>\n",
       "      <td>19.343484</td>\n",
       "      <td>10.268915</td>\n",
       "      <td>6.966134</td>\n",
       "      <td>1.419131</td>\n",
       "      <td>2.654465</td>\n",
       "      <td>2.807904e+07</td>\n",
       "      <td>1.300849</td>\n",
       "      <td>93.513852</td>\n",
       "    </tr>\n",
       "    <tr>\n",
       "      <th>std</th>\n",
       "      <td>0.852232</td>\n",
       "      <td>0.256755</td>\n",
       "      <td>0.729233</td>\n",
       "      <td>0.194692</td>\n",
       "      <td>51.440221</td>\n",
       "      <td>31.158320</td>\n",
       "      <td>34.328020</td>\n",
       "      <td>17.264143</td>\n",
       "      <td>7.949539</td>\n",
       "      <td>5.273054</td>\n",
       "      <td>0.270067</td>\n",
       "      <td>3.849504</td>\n",
       "      <td>1.762328e+01</td>\n",
       "      <td>0.195550</td>\n",
       "      <td>120.910064</td>\n",
       "    </tr>\n",
       "    <tr>\n",
       "      <th>min</th>\n",
       "      <td>0.100000</td>\n",
       "      <td>0.100000</td>\n",
       "      <td>0.100000</td>\n",
       "      <td>0.000000</td>\n",
       "      <td>1.000000</td>\n",
       "      <td>1.000000</td>\n",
       "      <td>1.000000</td>\n",
       "      <td>0.000000</td>\n",
       "      <td>0.000000</td>\n",
       "      <td>1.000000</td>\n",
       "      <td>0.030000</td>\n",
       "      <td>0.100000</td>\n",
       "      <td>2.807900e+07</td>\n",
       "      <td>0.020000</td>\n",
       "      <td>2.000000</td>\n",
       "    </tr>\n",
       "    <tr>\n",
       "      <th>25%</th>\n",
       "      <td>0.200000</td>\n",
       "      <td>0.200000</td>\n",
       "      <td>0.100000</td>\n",
       "      <td>0.070000</td>\n",
       "      <td>2.000000</td>\n",
       "      <td>17.000000</td>\n",
       "      <td>18.000000</td>\n",
       "      <td>8.000000</td>\n",
       "      <td>5.000000</td>\n",
       "      <td>3.000000</td>\n",
       "      <td>1.230000</td>\n",
       "      <td>0.600000</td>\n",
       "      <td>2.807902e+07</td>\n",
       "      <td>1.170000</td>\n",
       "      <td>25.000000</td>\n",
       "    </tr>\n",
       "    <tr>\n",
       "      <th>50%</th>\n",
       "      <td>0.400000</td>\n",
       "      <td>0.300000</td>\n",
       "      <td>0.200000</td>\n",
       "      <td>0.110000</td>\n",
       "      <td>6.000000</td>\n",
       "      <td>32.000000</td>\n",
       "      <td>48.000000</td>\n",
       "      <td>15.000000</td>\n",
       "      <td>8.000000</td>\n",
       "      <td>6.000000</td>\n",
       "      <td>1.370000</td>\n",
       "      <td>1.500000</td>\n",
       "      <td>2.807904e+07</td>\n",
       "      <td>1.250000</td>\n",
       "      <td>52.000000</td>\n",
       "    </tr>\n",
       "    <tr>\n",
       "      <th>75%</th>\n",
       "      <td>0.800000</td>\n",
       "      <td>0.400000</td>\n",
       "      <td>0.400000</td>\n",
       "      <td>0.170000</td>\n",
       "      <td>20.000000</td>\n",
       "      <td>56.000000</td>\n",
       "      <td>73.000000</td>\n",
       "      <td>25.000000</td>\n",
       "      <td>14.000000</td>\n",
       "      <td>9.000000</td>\n",
       "      <td>1.550000</td>\n",
       "      <td>3.300000</td>\n",
       "      <td>2.807906e+07</td>\n",
       "      <td>1.400000</td>\n",
       "      <td>112.000000</td>\n",
       "    </tr>\n",
       "    <tr>\n",
       "      <th>max</th>\n",
       "      <td>21.400000</td>\n",
       "      <td>4.900000</td>\n",
       "      <td>38.299999</td>\n",
       "      <td>9.070000</td>\n",
       "      <td>1146.000000</td>\n",
       "      <td>424.000000</td>\n",
       "      <td>236.000000</td>\n",
       "      <td>419.000000</td>\n",
       "      <td>215.000000</td>\n",
       "      <td>98.000000</td>\n",
       "      <td>10.480000</td>\n",
       "      <td>138.000000</td>\n",
       "      <td>2.807906e+07</td>\n",
       "      <td>3.920000</td>\n",
       "      <td>1798.000000</td>\n",
       "    </tr>\n",
       "  </tbody>\n",
       "</table>\n",
       "</div>"
      ],
      "text/plain": [
       "                 BEN             CO            EBE          NMHC  \\\n",
       "count  168945.000000  288425.000000  168219.000000  85638.000000   \n",
       "mean        0.651407       0.360093       0.409643      0.160830   \n",
       "std         0.852232       0.256755       0.729233      0.194692   \n",
       "min         0.100000       0.100000       0.100000      0.000000   \n",
       "25%         0.200000       0.200000       0.100000      0.070000   \n",
       "50%         0.400000       0.300000       0.200000      0.110000   \n",
       "75%         0.800000       0.400000       0.400000      0.170000   \n",
       "max        21.400000       4.900000      38.299999      9.070000   \n",
       "\n",
       "                  NO           NO_2            O_3           PM10  \\\n",
       "count  695310.000000  695310.000000  404218.000000  346689.000000   \n",
       "mean       23.655151      40.202041      48.885648      19.343484   \n",
       "std        51.440221      31.158320      34.328020      17.264143   \n",
       "min         1.000000       1.000000       1.000000       0.000000   \n",
       "25%         2.000000      17.000000      18.000000       8.000000   \n",
       "50%         6.000000      32.000000      48.000000      15.000000   \n",
       "75%        20.000000      56.000000      73.000000      25.000000   \n",
       "max      1146.000000     424.000000     236.000000     419.000000   \n",
       "\n",
       "                PM25           SO_2           TCH            TOL  \\\n",
       "count  171898.000000  288310.000000  85638.000000  168355.000000   \n",
       "mean       10.268915       6.966134      1.419131       2.654465   \n",
       "std         7.949539       5.273054      0.270067       3.849504   \n",
       "min         0.000000       1.000000      0.030000       0.100000   \n",
       "25%         5.000000       3.000000      1.230000       0.600000   \n",
       "50%         8.000000       6.000000      1.370000       1.500000   \n",
       "75%        14.000000       9.000000      1.550000       3.300000   \n",
       "max       215.000000      98.000000     10.480000     138.000000   \n",
       "\n",
       "            station           CH4            NOx  \n",
       "count  6.988080e+05  14850.000000  121644.000000  \n",
       "mean   2.807904e+07      1.300849      93.513852  \n",
       "std    1.762328e+01      0.195550     120.910064  \n",
       "min    2.807900e+07      0.020000       2.000000  \n",
       "25%    2.807902e+07      1.170000      25.000000  \n",
       "50%    2.807904e+07      1.250000      52.000000  \n",
       "75%    2.807906e+07      1.400000     112.000000  \n",
       "max    2.807906e+07      3.920000    1798.000000  "
      ]
     },
     "execution_count": 64,
     "metadata": {},
     "output_type": "execute_result"
    }
   ],
   "source": [
    "madrid_data.describe()"
   ]
  },
  {
   "cell_type": "markdown",
   "id": "961144f1",
   "metadata": {},
   "source": [
    "# Datatypes of fields"
   ]
  },
  {
   "cell_type": "code",
   "execution_count": 65,
   "id": "452e4e93",
   "metadata": {},
   "outputs": [
    {
     "name": "stdout",
     "output_type": "stream",
     "text": [
      "<class 'pandas.core.frame.DataFrame'>\n",
      "RangeIndex: 254 entries, 0 to 253\n",
      "Data columns (total 10 columns):\n",
      " #   Column       Non-Null Count  Dtype  \n",
      "---  ------       --------------  -----  \n",
      " 0   StationId    24 non-null     object \n",
      " 1   StationName  254 non-null    object \n",
      " 2   address      24 non-null     object \n",
      " 3   lon          24 non-null     float64\n",
      " 4   lat          24 non-null     float64\n",
      " 5   elevation    24 non-null     float64\n",
      " 6   City         230 non-null    object \n",
      " 7   State        230 non-null    object \n",
      " 8   Status       230 non-null    object \n",
      " 9   Region       230 non-null    object \n",
      "dtypes: float64(3), object(7)\n",
      "memory usage: 20.0+ KB\n"
     ]
    }
   ],
   "source": [
    "station_list.info()"
   ]
  },
  {
   "cell_type": "code",
   "execution_count": 66,
   "id": "0360a966",
   "metadata": {},
   "outputs": [
    {
     "name": "stdout",
     "output_type": "stream",
     "text": [
      "<class 'pandas.core.frame.DataFrame'>\n",
      "Int64Index: 7360725 entries, 0 to 186669\n",
      "Data columns (total 29 columns):\n",
      " #   Column                  Dtype  \n",
      "---  ------                  -----  \n",
      " 0   Unnamed: 0              int64  \n",
      " 1   StationId               object \n",
      " 2   Date                    object \n",
      " 3   PM2.5                   float64\n",
      " 4   PM10                    float64\n",
      " 5   NO                      float64\n",
      " 6   NO2                     float64\n",
      " 7   NOx                     float64\n",
      " 8   NH3                     float64\n",
      " 9   CO                      float64\n",
      " 10  SO2                     float64\n",
      " 11  O3                      float64\n",
      " 12  Benzene                 float64\n",
      " 13  Toluene                 float64\n",
      " 14  Xylene                  float64\n",
      " 15  AQI                     float64\n",
      " 16  AQI_Bucket              object \n",
      " 17  StationName             object \n",
      " 18  City                    object \n",
      " 19  State                   object \n",
      " 20  Status                  object \n",
      " 21  Region                  object \n",
      " 22  Month                   object \n",
      " 23  Year                    int64  \n",
      " 24  Season                  object \n",
      " 25  Weekday_or_weekend      object \n",
      " 26  Regular_day_or_holiday  object \n",
      " 27  AQ_Acceptability        object \n",
      " 28  Day_period              object \n",
      "dtypes: float64(13), int64(2), object(14)\n",
      "memory usage: 1.6+ GB\n"
     ]
    }
   ],
   "source": [
    "india_data.info()"
   ]
  },
  {
   "cell_type": "code",
   "execution_count": 67,
   "id": "cd160356",
   "metadata": {},
   "outputs": [
    {
     "name": "stdout",
     "output_type": "stream",
     "text": [
      "<class 'pandas.core.frame.DataFrame'>\n",
      "Int64Index: 698808 entries, 0 to 69095\n",
      "Data columns (total 16 columns):\n",
      " #   Column   Non-Null Count   Dtype  \n",
      "---  ------   --------------   -----  \n",
      " 0   date     698808 non-null  object \n",
      " 1   BEN      168945 non-null  float64\n",
      " 2   CO       288425 non-null  float64\n",
      " 3   EBE      168219 non-null  float64\n",
      " 4   NMHC     85638 non-null   float64\n",
      " 5   NO       695310 non-null  float64\n",
      " 6   NO_2     695310 non-null  float64\n",
      " 7   O_3      404218 non-null  float64\n",
      " 8   PM10     346689 non-null  float64\n",
      " 9   PM25     171898 non-null  float64\n",
      " 10  SO_2     288310 non-null  float64\n",
      " 11  TCH      85638 non-null   float64\n",
      " 12  TOL      168355 non-null  float64\n",
      " 13  station  698808 non-null  int64  \n",
      " 14  CH4      14850 non-null   float64\n",
      " 15  NOx      121644 non-null  float64\n",
      "dtypes: float64(14), int64(1), object(1)\n",
      "memory usage: 90.6+ MB\n"
     ]
    }
   ],
   "source": [
    "madrid_data.info()"
   ]
  },
  {
   "cell_type": "markdown",
   "id": "a8d86d61",
   "metadata": {},
   "source": [
    "# Check null values in dataset\n",
    "#### Below command will show number of null values"
   ]
  },
  {
   "cell_type": "code",
   "execution_count": 78,
   "id": "62e9ce44",
   "metadata": {},
   "outputs": [
    {
     "data": {
      "text/plain": [
       "StationId        0\n",
       "StationName      0\n",
       "address        230\n",
       "lon            230\n",
       "lat            230\n",
       "elevation      230\n",
       "City            24\n",
       "State           24\n",
       "Status          24\n",
       "Region          24\n",
       "dtype: int64"
      ]
     },
     "execution_count": 78,
     "metadata": {},
     "output_type": "execute_result"
    }
   ],
   "source": [
    "station_list.isnull().sum()"
   ]
  },
  {
   "cell_type": "code",
   "execution_count": 79,
   "id": "5d6998d2",
   "metadata": {},
   "outputs": [
    {
     "data": {
      "text/plain": [
       "Unnamed: 0                      0\n",
       "StationId                       0\n",
       "Date                            0\n",
       "PM2.5                     1291028\n",
       "PM10                      2630219\n",
       "NO                        1084191\n",
       "NO2                       1059804\n",
       "NOx                        909900\n",
       "NH3                       2563104\n",
       "CO                         771072\n",
       "SO2                       1413091\n",
       "O3                        1400900\n",
       "Benzene                   1392493\n",
       "Toluene                   1800266\n",
       "Xylene                    4725589\n",
       "AQI                       1189970\n",
       "AQI_Bucket                      0\n",
       "StationName                     0\n",
       "City                            0\n",
       "State                           0\n",
       "Status                          0\n",
       "Region                          0\n",
       "Month                           0\n",
       "Year                            0\n",
       "Season                          0\n",
       "Weekday_or_weekend              0\n",
       "Regular_day_or_holiday          0\n",
       "AQ_Acceptability                0\n",
       "Day_period                 294705\n",
       "dtype: int64"
      ]
     },
     "execution_count": 79,
     "metadata": {},
     "output_type": "execute_result"
    }
   ],
   "source": [
    "india_data.isnull().sum()"
   ]
  },
  {
   "cell_type": "code",
   "execution_count": 80,
   "id": "6adb1412",
   "metadata": {},
   "outputs": [
    {
     "data": {
      "text/plain": [
       "date            0\n",
       "BEN        529863\n",
       "CO         410383\n",
       "EBE        530589\n",
       "NMHC       613170\n",
       "NO           3498\n",
       "NO_2         3498\n",
       "O_3        294590\n",
       "PM10       352119\n",
       "PM25       526910\n",
       "SO_2       410498\n",
       "TCH        613170\n",
       "TOL        530453\n",
       "station         0\n",
       "CH4        683958\n",
       "NOx        577164\n",
       "dtype: int64"
      ]
     },
     "execution_count": 80,
     "metadata": {},
     "output_type": "execute_result"
    }
   ],
   "source": [
    "madrid_data.isnull().sum()"
   ]
  },
  {
   "cell_type": "markdown",
   "id": "66092542",
   "metadata": {},
   "source": [
    "# Finding outliers from the data"
   ]
  },
  {
   "cell_type": "code",
   "execution_count": 88,
   "id": "7100ff74",
   "metadata": {},
   "outputs": [
    {
     "data": {
      "image/png": "[encoded data removed]",
      "text/plain": [
       "<Figure size 864x576 with 1 Axes>"
      ]
     },
     "metadata": {
      "needs_background": "light"
     },
     "output_type": "display_data"
    }
   ],
   "source": [
    "columns = 'PM2.5', 'PM10', 'NO', 'NO2', 'NOx', 'NH3', 'CO', 'SO2', 'O3', 'Benzene', 'Toluene', 'Xylene', 'AQI'\n",
    "col = 'AQI'\n",
    "plt.figure(figsize=(12,8))\n",
    "a = sns.boxplot(x= 'Year', y = col, data= india_data)\n",
    "a.set_title(f\"Outliers of {col} data\", fontsize=16)\n",
    "display()"
   ]
  },
  {
   "cell_type": "code",
   "execution_count": 89,
   "id": "75826dba",
   "metadata": {},
   "outputs": [
    {
     "data": {
      "image/png": "[encoded data removed]",
      "text/plain": [
       "<Figure size 864x576 with 1 Axes>"
      ]
     },
     "metadata": {
      "needs_background": "light"
     },
     "output_type": "display_data"
    }
   ],
   "source": [
    "col = 'NO'\n",
    "plt.figure(figsize=(12,8))\n",
    "a = sns.boxplot(x= 'Year', y = col, data= india_data)\n",
    "a.set_title(f\"Outliers of {col} data\", fontsize=16)\n",
    "display()"
   ]
  },
  {
   "cell_type": "code",
   "execution_count": 111,
   "id": "04d785b8",
   "metadata": {},
   "outputs": [
    {
     "data": {
      "image/png": "[encoded data removed]",
      "text/plain": [
       "<Figure size 1440x720 with 2 Axes>"
      ]
     },
     "metadata": {
      "needs_background": "light"
     },
     "output_type": "display_data"
    }
   ],
   "source": [
    "madrid_data_heatmap = madrid_data.drop(['station'], axis = 1)\n",
    "plt.figure(figsize=(20,10))\n",
    "sns.heatmap(madrid_data_heatmap.corr(),annot=True)\n",
    "plt.show()"
   ]
  },
  {
   "cell_type": "code",
   "execution_count": 112,
   "id": "e291bd32",
   "metadata": {},
   "outputs": [],
   "source": [
    "filtered_dataframe_india = india_data\n",
    "filtered_dataframe_india['V_P_C'] = filtered_dataframe_india['PM2.5']+filtered_dataframe_india['PM10']+filtered_dataframe_india['NO']+filtered_dataframe_india['NO2']+filtered_dataframe_india['NOx']+filtered_dataframe_india['NH3']+filtered_dataframe_india['CO']\n",
    "filtered_dataframe_india['I_P_C'] = filtered_dataframe_india['SO2']+filtered_dataframe_india['O3']+filtered_dataframe_india['Benzene']+filtered_dataframe_india['Toluene']+filtered_dataframe_india['Xylene']"
   ]
  },
  {
   "cell_type": "code",
   "execution_count": 116,
   "id": "fe8d2b15",
   "metadata": {},
   "outputs": [],
   "source": [
    "most_polluted_citites = filtered_dataframe_india.groupby(['City']).agg({'I_P_C': ['mean']})\n",
    "most_polluted_citites = most_polluted_citites.reset_index()\n",
    "most_polluted_citites_by_industry = []\n",
    "for index, row in most_polluted_citites.iterrows():\n",
    "    most_polluted_citites_by_industry.append({'City' : row[0], 'I_P_C': row[1]})\n",
    "most_polluted_citites_by_industry = pd.DataFrame(most_polluted_citites_by_industry)\n",
    "most_polluted_citites_by_industry = most_polluted_citites_by_industry.dropna()"
   ]
  },
  {
   "cell_type": "code",
   "execution_count": 117,
   "id": "78954fc7",
   "metadata": {},
   "outputs": [
    {
     "data": {
      "image/png": "[encoded data removed]",
      "text/plain": [
       "<Figure size 432x288 with 1 Axes>"
      ]
     },
     "metadata": {
      "needs_background": "light"
     },
     "output_type": "display_data"
    }
   ],
   "source": [
    "fig = plt.figure()\n",
    "ax = fig.add_axes([0,0,2,1])\n",
    "ax.bar(most_polluted_citites_by_industry['City'], most_polluted_citites_by_industry['I_P_C'])\n",
    "ax.set_xlabel('City')\n",
    "ax.set_ylabel('Industry Pollution')\n",
    "ax.set_title('Industry pollution in cities')\n",
    "plt.show()"
   ]
  },
  {
   "cell_type": "code",
   "execution_count": 118,
   "id": "805b18ba",
   "metadata": {},
   "outputs": [],
   "source": [
    "most_polluted_citites = filtered_dataframe_india.groupby(['City']).agg({'V_P_C': ['mean']})\n",
    "most_polluted_citites = most_polluted_citites.reset_index()\n",
    "most_polluted_citites_by_vehicle = []\n",
    "for index, row in most_polluted_citites.iterrows():\n",
    "    most_polluted_citites_by_vehicle.append({'City' : row[0], 'V_P_C': row[1]})\n",
    "most_polluted_citites_by_vehicle = pd.DataFrame(most_polluted_citites_by_vehicle)\n",
    "most_polluted_citites_by_vehicle = most_polluted_citites_by_vehicle.dropna()"
   ]
  },
  {
   "cell_type": "code",
   "execution_count": 133,
   "id": "acd3c5e0",
   "metadata": {},
   "outputs": [
    {
     "data": {
      "image/png": "[encoded data removed]",
      "text/plain": [
       "<Figure size 432x288 with 1 Axes>"
      ]
     },
     "metadata": {
      "needs_background": "light"
     },
     "output_type": "display_data"
    },
    {
     "data": {
      "text/plain": [
       "<Figure size 864x576 with 0 Axes>"
      ]
     },
     "metadata": {},
     "output_type": "display_data"
    }
   ],
   "source": [
    "fig = plt.figure()\n",
    "ax = fig.add_axes([0,0,2,1])\n",
    "plt.figure(figsize=(12,8))\n",
    "ax.bar(most_polluted_citites_by_vehicle['City'], most_polluted_citites_by_vehicle['V_P_C'])\n",
    "ax.set_xlabel('City')\n",
    "ax.set_ylabel('Vehicle Pollution')\n",
    "ax.set_title('Vehicle pollution in cities')\n",
    "plt.setp(ax.get_xticklabels(), rotation=90, horizontalalignment='right')\n",
    "plt.show()"
   ]
  },
  {
   "cell_type": "code",
   "execution_count": null,
   "id": "329cb604",
   "metadata": {},
   "outputs": [],
   "source": [
    "filtered_india_data = india_data.dropna()\n",
    "filtered_madrid_data = madrid_data.dropna()"
   ]
  }
 ],
 "metadata": {
  "kernelspec": {
   "display_name": "Python 3 (ipykernel)",
   "language": "python",
   "name": "python3"
  },
  "language_info": {
   "codemirror_mode": {
    "name": "ipython",
    "version": 3
   },
   "file_extension": ".py",
   "mimetype": "text/x-python",
   "name": "python",
   "nbconvert_exporter": "python",
   "pygments_lexer": "ipython3",
   "version": "3.9.12"
  }
 },
 "nbformat": 4,
 "nbformat_minor": 5
}
